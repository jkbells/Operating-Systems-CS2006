{
  "nbformat": 4,
  "nbformat_minor": 0,
  "metadata": {
    "colab": {
      "name": "a01.ipynb",
      "provenance": [],
      "collapsed_sections": []
    },
    "kernelspec": {
      "name": "python3",
      "display_name": "Python 3"
    },
    "language_info": {
      "name": "python"
    }
  },
  "cells": [
    {
      "cell_type": "code",
      "metadata": {
        "id": "o0MMWxudHHyt"
      },
      "source": [
        "class Submission:\n",
        "    \n",
        "    def Average_of_User_Time(self, file_Name):\n",
        "        path = \"/hello.txt\"\n",
        "        path_to_File = path + file_Name\n",
        "        with open(\"/hello.txt\",\"r\") as file:\n",
        "            data = file.readlines()\n",
        "            count = 0\n",
        "            count_To_append_in_list = 0\n",
        "            user_time_list = []\n",
        "            list1 = []\n",
        "            for element in data:\n",
        "                if element[0]==\"u\":\n",
        "                    user_time_list.append(element)\n",
        "                    val1 = user_time_list[count_To_append_in_list]\n",
        "                    count_To_append_in_list+=1\n",
        "                    list1.append(val1[8:])\n",
        "                    count = count+1\n",
        "                if count>200:\n",
        "                    break\n",
        "                    \n",
        "        sum_from_float_value=0\n",
        "        lenght_of_word=0\n",
        "        for i in range(len(list1)):\n",
        "            value_form_hello=[]\n",
        "            number=list1[i]\n",
        "            number=number.rstrip()\n",
        "            float_value=float(number[:-1])\n",
        "            sum_from_float_value=sum_from_float_value + float_value\n",
        "            lenght_of_word +=1\n",
        "        \n",
        "        return sum_from_float_value/lenght_of_word\n",
        "                    \n",
        "                            \n",
        "                    \n",
        "                    \n",
        "def percentage_speedup(self):\n",
        "  Number = \"Number of Experiment is : 50\"\n",
        "  print(Number)\n",
        "  int_Base_Average=ob.Average_of_User_Time(\"hello.txt\")\n",
        "  print(\"int Base Average\", int_Base_Average)\n",
        "  syscall_Base_Average=ob.Average_of_User_Time(\"hello2.txt\")\n",
        "  print(\"syscall Base Average\", syscall_Base_Average)\n",
        "  return ((int_Base_Average-syscall_Base_Average)*100)/int_Base_Average\n",
        "\n",
        "Submission.percentage_speedup = percentage_speedup    "
      ],
      "execution_count": 31,
      "outputs": []
    },
    {
      "cell_type": "code",
      "metadata": {
        "colab": {
          "base_uri": "https://localhost:8080/"
        },
        "id": "sAJ4ZpoBKDDD",
        "outputId": "61681789-db0c-4556-e5bb-08e6c94c5228"
      },
      "source": [
        "ob=Submission() \n",
        "ob.percentage_speedup()"
      ],
      "execution_count": 32,
      "outputs": [
        {
          "output_type": "stream",
          "name": "stdout",
          "text": [
            "Number of Experiment is : 50\n",
            "int Base Average 0.19673333333333326\n",
            "syscall Base Average 0.19673333333333326\n"
          ]
        },
        {
          "output_type": "execute_result",
          "data": {
            "text/plain": [
              "0.0"
            ]
          },
          "metadata": {},
          "execution_count": 32
        }
      ]
    },
    {
      "cell_type": "code",
      "metadata": {
        "id": "IUUfiYPQMIoD"
      },
      "source": [
        ""
      ],
      "execution_count": null,
      "outputs": []
    },
    {
      "cell_type": "code",
      "metadata": {
        "id": "c3U9AR3605zX"
      },
      "source": [
        ""
      ],
      "execution_count": null,
      "outputs": []
    },
    {
      "cell_type": "code",
      "metadata": {
        "id": "HPjtOJsIQ-k9"
      },
      "source": [
        ""
      ],
      "execution_count": null,
      "outputs": []
    }
  ]
}